{
 "cells": [
  {
   "cell_type": "code",
   "execution_count": 48,
   "id": "ebf5e5ea",
   "metadata": {},
   "outputs": [],
   "source": [
    "import random"
   ]
  },
  {
   "cell_type": "code",
   "execution_count": 49,
   "id": "ae1de91e",
   "metadata": {},
   "outputs": [],
   "source": [
    "letters=['a', 'A', 'b', 'B', 'C', 'c', 'D', 'd', 'E', 'e', 'F', 'f', 'g', 'G', 'H', 'h', 'I', 'i','J', 'j', 'K', 'k', 'L', 'l', 'M', 'm', 'N', 'n', 'O', 'o', 'P', 'p', 'Q', 'q', 'R', 'r', 'S', 's', 'T', 't', 'U', 'u', 'v', 'V', 'X', 'x', 'Y', 'y', 'Z', 'z']\n",
    "numbers=[0, 1, 2, 3, 4, 5, 6, 7, 8, 9]\n",
    "symbols=['!','@','#','$', '%', '^', '&', '*', '(', ')','-', '+', '=','_', '`','~', ':', ';', '\"\"', ',', '.', '/', '<', '>', '?', '/', '{', '}', '[',']', '|', '/']\n"
   ]
  },
  {
   "cell_type": "code",
   "execution_count": 73,
   "id": "c43a2437",
   "metadata": {},
   "outputs": [
    {
     "name": "stdout",
     "output_type": "stream",
     "text": [
      "how many letters do you want in your password?2\n",
      "how many numbers do you want in your password?3\n",
      "how many symbols do you want in your password?4\n"
     ]
    }
   ],
   "source": [
    "letter_input=int((input(\"how many letters do you want in your password?\")))\n",
    "number_input=int((input(\"how many numbers do you want in your password?\")))\n",
    "symbol_input=int((input(\"how many symbols do you want in your password?\")))"
   ]
  },
  {
   "cell_type": "code",
   "execution_count": 79,
   "id": "f1b18e1e",
   "metadata": {},
   "outputs": [
    {
     "name": "stdout",
     "output_type": "stream",
     "text": [
      "3!^*m57?t\n"
     ]
    }
   ],
   "source": [
    "letters_chosen=random.sample(letters, letter_input)\n",
    "letter_string= ''.join(letters_chosen)\n",
    "numbers_chosen=random.sample(numbers, number_input)\n",
    "number_string= ''.join(str(x) for x in numbers_chosen)\n",
    "symbols_chosen=random.sample(symbols, symbol_input)\n",
    "symbol_string= ''.join(symbols_chosen)\n",
    "password_unshuffled=letter_string+number_string+symbol_string\n",
    "password=''.join(random.sample(password_unshuffled,len(password_unshuffled)))\n",
    "print(password)\n"
   ]
  }
 ],
 "metadata": {
  "kernelspec": {
   "display_name": "Python 3 (ipykernel)",
   "language": "python",
   "name": "python3"
  },
  "language_info": {
   "codemirror_mode": {
    "name": "ipython",
    "version": 3
   },
   "file_extension": ".py",
   "mimetype": "text/x-python",
   "name": "python",
   "nbconvert_exporter": "python",
   "pygments_lexer": "ipython3",
   "version": "3.11.7"
  }
 },
 "nbformat": 4,
 "nbformat_minor": 5
}
